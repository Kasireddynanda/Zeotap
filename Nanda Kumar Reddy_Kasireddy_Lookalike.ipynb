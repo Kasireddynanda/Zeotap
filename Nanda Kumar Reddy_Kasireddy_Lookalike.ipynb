{
 "cells": [
  {
   "cell_type": "code",
   "execution_count": 17,
   "id": "3910b8b6-e8ed-4770-b39f-6e3180028b6b",
   "metadata": {},
   "outputs": [],
   "source": [
    "import pandas as pd\n",
    "import numpy as np\n",
    "from sklearn.preprocessing import StandardScaler\n",
    "from sklearn.metrics.pairwise import cosine_similarity"
   ]
  },
  {
   "cell_type": "code",
   "execution_count": 18,
   "id": "bf3793bc-4994-407a-9434-83d3d3395e51",
   "metadata": {},
   "outputs": [],
   "source": [
    "customers_df = pd.read_csv(\"Customers.csv\", dtype={\"CustomerID\": str})  # Ensuring CustomerID is string\n",
    "transactions_df = pd.read_csv(\"Transactions.csv\", dtype={\"CustomerID\": str})\n",
    "products_df = pd.read_csv(\"Products.csv\")"
   ]
  },
  {
   "cell_type": "code",
   "execution_count": 19,
   "id": "5bd83c6a-e4ad-430e-b759-8c5928897774",
   "metadata": {},
   "outputs": [],
   "source": [
    "merged_df = transactions_df.merge(customers_df, on=\"CustomerID\").merge(products_df, on=\"ProductID\")"
   ]
  },
  {
   "cell_type": "code",
   "execution_count": 20,
   "id": "ebe4391f-88a8-4064-b15b-d1cb7521be82",
   "metadata": {},
   "outputs": [],
   "source": [
    "customer_summary = merged_df.groupby(\"CustomerID\").agg(\n",
    "    TotalSpend=(\"TotalValue\", \"sum\"),\n",
    "    AvgTransactionValue=(\"TotalValue\", \"mean\"),\n",
    "    TotalTransactions=(\"TransactionID\", \"count\"),\n",
    "    LastPurchase=(\"TransactionDate\", \"max\")\n",
    ").reset_index()\n",
    "\n",
    "customer_summary = customer_summary.merge(customers_df, on=\"CustomerID\")\n",
    "customer_summary[\"LastPurchase\"] = pd.to_datetime(customer_summary[\"LastPurchase\"], errors=\"coerce\")\n",
    "customer_summary[\"SignupDate\"] = pd.to_datetime(customer_summary[\"SignupDate\"], errors=\"coerce\")\n"
   ]
  },
  {
   "cell_type": "code",
   "execution_count": 21,
   "id": "31889f49-5bd8-41d3-a54b-8f65d2b9a2fb",
   "metadata": {},
   "outputs": [
    {
     "name": "stderr",
     "output_type": "stream",
     "text": [
      "C:\\Users\\K NANDA KUMAR REDDY\\AppData\\Local\\Temp\\ipykernel_14604\\3920064164.py:1: FutureWarning: A value is trying to be set on a copy of a DataFrame or Series through chained assignment using an inplace method.\n",
      "The behavior will change in pandas 3.0. This inplace method will never work because the intermediate object on which we are setting values always behaves as a copy.\n",
      "\n",
      "For example, when doing 'df[col].method(value, inplace=True)', try using 'df.method({col: value}, inplace=True)' or df[col] = df[col].method(value) instead, to perform the operation inplace on the original object.\n",
      "\n",
      "\n",
      "  customer_summary[\"LastPurchase\"].fillna(pd.Timestamp(\"2000-01-01\"), inplace=True)\n",
      "C:\\Users\\K NANDA KUMAR REDDY\\AppData\\Local\\Temp\\ipykernel_14604\\3920064164.py:2: FutureWarning: A value is trying to be set on a copy of a DataFrame or Series through chained assignment using an inplace method.\n",
      "The behavior will change in pandas 3.0. This inplace method will never work because the intermediate object on which we are setting values always behaves as a copy.\n",
      "\n",
      "For example, when doing 'df[col].method(value, inplace=True)', try using 'df.method({col: value}, inplace=True)' or df[col] = df[col].method(value) instead, to perform the operation inplace on the original object.\n",
      "\n",
      "\n",
      "  customer_summary[\"SignupDate\"].fillna(pd.Timestamp(\"2000-01-01\"), inplace=True)\n"
     ]
    }
   ],
   "source": [
    "customer_summary[\"LastPurchase\"].fillna(pd.Timestamp(\"2000-01-01\"), inplace=True)\n",
    "customer_summary[\"SignupDate\"].fillna(pd.Timestamp(\"2000-01-01\"), inplace=True)\n",
    "customer_summary[\"Recency\"] = (pd.Timestamp.today() - customer_summary[\"LastPurchase\"]).dt.days\n",
    "customer_summary[\"Tenure\"] = (pd.Timestamp.today() - customer_summary[\"SignupDate\"]).dt.days\n",
    "customer_summary.drop(columns=[\"LastPurchase\", \"SignupDate\"], inplace=True)"
   ]
  },
  {
   "cell_type": "code",
   "execution_count": 22,
   "id": "47d1127d-9f7e-4acc-93d7-578b614795b5",
   "metadata": {},
   "outputs": [],
   "source": [
    "if \"Region\" in customer_summary.columns:\n",
    "    customer_summary = pd.get_dummies(customer_summary, columns=[\"Region\"], drop_first=True)\n",
    "scaler = StandardScaler()\n",
    "features = [\"TotalSpend\", \"AvgTransactionValue\", \"TotalTransactions\", \"Recency\", \"Tenure\"]\n",
    "customer_summary[features] = scaler.fit_transform(customer_summary[features])\n",
    "similarity_matrix = cosine_similarity(customer_summary[features])"
   ]
  },
  {
   "cell_type": "code",
   "execution_count": 23,
   "id": "a015d8cc-d61d-45ab-a6fa-02478a1f5978",
   "metadata": {},
   "outputs": [],
   "source": [
    "def recommend_similar_customers(customer_id, n=3):\n",
    "    if customer_id not in customer_summary[\"CustomerID\"].values:\n",
    "        return \"Customer not found!\"\n",
    "    index = customer_summary[customer_summary[\"CustomerID\"] == customer_id].index[0]\n",
    "    similarity_scores = list(enumerate(similarity_matrix[index]))\n"
   ]
  },
  {
   "cell_type": "code",
   "execution_count": 24,
   "id": "5e5d7b57-94fd-4f47-be22-57c7fb3d1049",
   "metadata": {},
   "outputs": [
    {
     "ename": "NameError",
     "evalue": "name 'similarity_scores' is not defined",
     "output_type": "error",
     "traceback": [
      "\u001b[1;31m---------------------------------------------------------------------------\u001b[0m",
      "\u001b[1;31mNameError\u001b[0m                                 Traceback (most recent call last)",
      "Cell \u001b[1;32mIn[24], line 1\u001b[0m\n\u001b[1;32m----> 1\u001b[0m sorted_customers \u001b[38;5;241m=\u001b[39m \u001b[38;5;28msorted\u001b[39m(similarity_scores, key\u001b[38;5;241m=\u001b[39m\u001b[38;5;28;01mlambda\u001b[39;00m x: x[\u001b[38;5;241m1\u001b[39m], reverse\u001b[38;5;241m=\u001b[39m\u001b[38;5;28;01mTrue\u001b[39;00m)[\u001b[38;5;241m1\u001b[39m:n\u001b[38;5;241m+\u001b[39m\u001b[38;5;241m1\u001b[39m]\n",
      "\u001b[1;31mNameError\u001b[0m: name 'similarity_scores' is not defined"
     ]
    }
   ],
   "source": [
    "sorted_customers = sorted(similarity_scores, key=lambda x: x[1], reverse=True)[1:n+1]"
   ]
  },
  {
   "cell_type": "code",
   "execution_count": 25,
   "id": "47656dd5-311c-4eaf-b4e3-ed5253f86ff7",
   "metadata": {},
   "outputs": [
    {
     "ename": "IndentationError",
     "evalue": "unexpected indent (2972723528.py, line 6)",
     "output_type": "error",
     "traceback": [
      "\u001b[1;36m  Cell \u001b[1;32mIn[25], line 6\u001b[1;36m\u001b[0m\n\u001b[1;33m    return recommendations\u001b[0m\n\u001b[1;37m    ^\u001b[0m\n\u001b[1;31mIndentationError\u001b[0m\u001b[1;31m:\u001b[0m unexpected indent\n"
     ]
    }
   ],
   "source": [
    "  recommendations = [\n",
    "        {\"CustomerID\": customer_summary.iloc[i[0]][\"CustomerID\"], \"SimilarityScore\": round(i[1], 4)}\n",
    "        for i in sorted_customers\n",
    "    ]\n",
    "    return recommendations\n"
   ]
  },
  {
   "cell_type": "code",
   "execution_count": 26,
   "id": "133d5b7b-ff33-4146-9d40-119c8017c0d0",
   "metadata": {},
   "outputs": [
    {
     "name": "stdout",
     "output_type": "stream",
     "text": [
      "Customer not found!\n"
     ]
    }
   ],
   "source": [
    "similar_customers = recommend_similar_customers(\"C001\", n=3)\n",
    "print(similar_customers)"
   ]
  },
  {
   "cell_type": "code",
   "execution_count": null,
   "id": "db4d3814-39ba-40c3-921d-8b806d255097",
   "metadata": {},
   "outputs": [],
   "source": []
  },
  {
   "cell_type": "code",
   "execution_count": null,
   "id": "8c528cb6-5e26-41a0-a058-73f94083544a",
   "metadata": {},
   "outputs": [],
   "source": []
  },
  {
   "cell_type": "code",
   "execution_count": null,
   "id": "6dcb2e6e-a9fc-4f4a-93e8-8f68d7a8a3b1",
   "metadata": {},
   "outputs": [],
   "source": []
  }
 ],
 "metadata": {
  "kernelspec": {
   "display_name": "Python 3 (ipykernel)",
   "language": "python",
   "name": "python3"
  },
  "language_info": {
   "codemirror_mode": {
    "name": "ipython",
    "version": 3
   },
   "file_extension": ".py",
   "mimetype": "text/x-python",
   "name": "python",
   "nbconvert_exporter": "python",
   "pygments_lexer": "ipython3",
   "version": "3.12.7"
  }
 },
 "nbformat": 4,
 "nbformat_minor": 5
}
